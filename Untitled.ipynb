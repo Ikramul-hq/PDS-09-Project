{
 "cells": [
  {
   "cell_type": "code",
   "execution_count": 1,
   "id": "9ec9b0e6-372a-4545-9768-a9e6741a6281",
   "metadata": {},
   "outputs": [
    {
     "name": "stdout",
     "output_type": "stream",
     "text": [
      "The average marks are: 86.25\n"
     ]
    }
   ],
   "source": [
    "class Student:\n",
    "    def __init__(self, subject1, subject2, subject3, subject4):\n",
    "        self.subject1 = subject1\n",
    "        self.subject2 = subject2\n",
    "        self.subject3 = subject3\n",
    "        self.subject4 = subject4\n",
    "    \n",
    "    def calculate_average(self):\n",
    "        total_marks = self.subject1 + self.subject2 + self.subject3 + self.subject4\n",
    "        average = total_marks / 4\n",
    "        return average\n",
    "\n",
    "student1 = Student(85, 90, 78, 92)\n",
    "average_marks = student1.calculate_average()\n",
    "print(f\"The average marks are: {average_marks}\")\n"
   ]
  },
  {
   "cell_type": "code",
   "execution_count": null,
   "id": "1ed196cc-4674-4d2c-a1d0-3cf73cc7aec9",
   "metadata": {},
   "outputs": [],
   "source": []
  }
 ],
 "metadata": {
  "kernelspec": {
   "display_name": "Python 3 (ipykernel)",
   "language": "python",
   "name": "python3"
  },
  "language_info": {
   "codemirror_mode": {
    "name": "ipython",
    "version": 3
   },
   "file_extension": ".py",
   "mimetype": "text/x-python",
   "name": "python",
   "nbconvert_exporter": "python",
   "pygments_lexer": "ipython3",
   "version": "3.12.7"
  }
 },
 "nbformat": 4,
 "nbformat_minor": 5
}
