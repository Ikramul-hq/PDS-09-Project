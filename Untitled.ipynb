{
 "cells": [
  {
   "cell_type": "code",
   "execution_count": 11,
   "id": "9045de75-f7b5-4d99-9875-5f6c73c29a81",
   "metadata": {},
   "outputs": [
    {
     "name": "stdout",
     "output_type": "stream",
     "text": [
      "Python-is-fun\n"
     ]
    }
   ],
   "source": [
    "print(\"Python\", \"is\", \"fun\", sep = \"-\")"
   ]
  },
  {
   "cell_type": "code",
   "execution_count": 14,
   "id": "b6a87086-54bd-4c35-82ef-94947bac854d",
   "metadata": {},
   "outputs": [
    {
     "name": "stdin",
     "output_type": "stream",
     "text": [
      "Enter your name:  Ikramul \n",
      "Enter your age:  24\n"
     ]
    },
    {
     "name": "stdout",
     "output_type": "stream",
     "text": [
      "Your name : Ikramul  , age: 24\n"
     ]
    }
   ],
   "source": [
    "name = input(\"Enter your name: \")\n",
    "age = int(input(\"Enter your age: \"))\n",
    "\n",
    "print(f\"Your name : {name} , age: {age}\")"
   ]
  },
  {
   "cell_type": "code",
   "execution_count": 16,
   "id": "31664d8e-57a8-4c9a-9b12-cbabf3d1e91c",
   "metadata": {},
   "outputs": [
    {
     "name": "stdout",
     "output_type": "stream",
     "text": [
      "(1, 2, 3, 4, 5)\n"
     ]
    }
   ],
   "source": [
    "list_1 = 1,2,3,4,5\n",
    "print(list_1, sep=\"---\")"
   ]
  },
  {
   "cell_type": "code",
   "execution_count": null,
   "id": "75110719-eadc-44eb-874e-7c6bc49d6226",
   "metadata": {},
   "outputs": [],
   "source": [
    "my_string = \"hello world\"\n",
    "another_string = \"Python is fun\"\n"
   ]
  },
  {
   "cell_type": "code",
   "execution_count": 21,
   "id": "94828f00-7e1e-4266-84d2-0d2e0fbfc437",
   "metadata": {},
   "outputs": [
    {
     "name": "stdin",
     "output_type": "stream",
     "text": [
      "Enter your name:  Ikram\n"
     ]
    },
    {
     "name": "stdout",
     "output_type": "stream",
     "text": [
      "Good evening! Ikram\n",
      "14\n"
     ]
    }
   ],
   "source": [
    "greetings = \"Good evening! \"\n",
    "name = input(\"Enter your name: \")\n",
    "message = greetings + name\n",
    "print(message)\n",
    "print(len(greetings))"
   ]
  },
  {
   "cell_type": "code",
   "execution_count": 26,
   "id": "ae837da7-cd9d-4bbc-8a24-767b55242bc7",
   "metadata": {},
   "outputs": [
    {
     "name": "stdout",
     "output_type": "stream",
     "text": [
      "to is not present in text\n"
     ]
    }
   ],
   "source": [
    "text = \"Everything is connected to everything else!! \"\n",
    "if \"to\" in text:\n",
    "    print(\"to is present!\")\n"
   ]
  },
  {
   "cell_type": "code",
   "execution_count": 27,
   "id": "46717bf8-2528-45d0-bada-399322577137",
   "metadata": {},
   "outputs": [
    {
     "name": "stdout",
     "output_type": "stream",
     "text": [
      "hahaha\n"
     ]
    }
   ],
   "source": [
    "laugh = \"ha\"\n",
    "print(laugh*3)"
   ]
  },
  {
   "cell_type": "code",
   "execution_count": 29,
   "id": "ecc2451f-bc99-43ea-9a54-fcbfe57260dc",
   "metadata": {},
   "outputs": [
    {
     "name": "stdout",
     "output_type": "stream",
     "text": [
      "HELLO\n",
      "akibb\n"
     ]
    }
   ],
   "source": [
    "print(\"hello\".upper())\n",
    "print(\"aKIBb\".lower())"
   ]
  },
  {
   "cell_type": "code",
   "execution_count": 32,
   "id": "e39b81ea-911c-4c5f-a469-837b02ef4ec1",
   "metadata": {},
   "outputs": [
    {
     "name": "stdout",
     "output_type": "stream",
     "text": [
      "hello w\n"
     ]
    }
   ],
   "source": [
    "#Slicing\n",
    "text = \"hello world!\"\n",
    "print(text[0:7])"
   ]
  },
  {
   "cell_type": "code",
   "execution_count": 34,
   "id": "90ea51f9-ffc6-4c9b-ae0c-a4553e4f346e",
   "metadata": {},
   "outputs": [
    {
     "name": "stdout",
     "output_type": "stream",
     "text": [
      "Programming!\n"
     ]
    }
   ],
   "source": [
    "text_2 = \"Python Programming!\"\n",
    "print(text_2[7:])"
   ]
  },
  {
   "cell_type": "code",
   "execution_count": 36,
   "id": "b9361fda-f7a6-42af-8f74-47edf0c7351c",
   "metadata": {},
   "outputs": [
    {
     "name": "stdout",
     "output_type": "stream",
     "text": [
      "l\n"
     ]
    }
   ],
   "source": [
    "sen_1 = \"Bangladesh is not for beginners\"\n",
    "print(sen_1[4])"
   ]
  },
  {
   "cell_type": "code",
   "execution_count": 51,
   "id": "ea0ec338-bbd8-492c-94ae-4f9521281481",
   "metadata": {},
   "outputs": [
    {
     "name": "stdout",
     "output_type": "stream",
     "text": [
      "[1, 2, 'hey!', 'hello', 4, 5, 6, 7]\n",
      "1\n",
      "two\n",
      "3.0\n",
      "[4, 5]\n"
     ]
    }
   ],
   "source": [
    "#Python list\n",
    "my_list = [1,2,3,\"hello\", 4,5,6]\n",
    "my_list_2 = [1, \"two\", 3.0, [4,5]]\n",
    "\n",
    "my_list.append(7)\n",
    "my_list.insert(2, \"hey!\")\n",
    "my_list.remove(3)\n",
    "\n",
    "print(my_list)\n",
    "\n",
    "for item in my_list_2:\n",
    "    print(item)\n"
   ]
  },
  {
   "cell_type": "code",
   "execution_count": null,
   "id": "452a3ec0-4007-437d-9fe4-a00fdfc42d08",
   "metadata": {},
   "outputs": [],
   "source": [
    "#tupple\n"
   ]
  },
  {
   "cell_type": "code",
   "execution_count": null,
   "id": "51d28e68-874c-4b65-8c41-75d6605d8676",
   "metadata": {},
   "outputs": [],
   "source": [
    "#array\n"
   ]
  },
  {
   "cell_type": "code",
   "execution_count": 54,
   "id": "fca0abf6-5402-442f-ba18-b9d2a869aab8",
   "metadata": {},
   "outputs": [
    {
     "name": "stdout",
     "output_type": "stream",
     "text": [
      "set()\n"
     ]
    }
   ],
   "source": [
    "#set\n",
    "my_set= {1,2,3}\n",
    "another_set = {4,5,6}\n",
    "\n",
    "set_3 = my_set.union(another_set)\n",
    "set_3 = my_set.intersection(another_set)\n",
    "\n",
    "print(set_3)"
   ]
  },
  {
   "cell_type": "code",
   "execution_count": 55,
   "id": "b7d8408e-aa23-4d2f-a147-cba71100f6b9",
   "metadata": {},
   "outputs": [
    {
     "name": "stdout",
     "output_type": "stream",
     "text": [
      "{'cherry', 1, 2, 'c', 3, 'b', 'apple', 'a', 'bananas', 'John', 'Elena'}\n"
     ]
    }
   ],
   "source": [
    "set1 = {\"a\", \"b\", \"c\"}\n",
    "set2 = {1, 2, 3}\n",
    "set3 = {\"John\", \"Elena\"}\n",
    "set4 = {\"apple\", \"bananas\", \"cherry\"}\n",
    "\n",
    "myset = set1.union(set2, set3, set4)\n",
    "print(myset)"
   ]
  },
  {
   "cell_type": "code",
   "execution_count": null,
   "id": "b60d936a-ddb7-4e2f-97f1-1a7fda054b1c",
   "metadata": {},
   "outputs": [],
   "source": []
  }
 ],
 "metadata": {
  "kernelspec": {
   "display_name": "Python 3 (ipykernel)",
   "language": "python",
   "name": "python3"
  },
  "language_info": {
   "codemirror_mode": {
    "name": "ipython",
    "version": 3
   },
   "file_extension": ".py",
   "mimetype": "text/x-python",
   "name": "python",
   "nbconvert_exporter": "python",
   "pygments_lexer": "ipython3",
   "version": "3.12.7"
  }
 },
 "nbformat": 4,
 "nbformat_minor": 5
}
