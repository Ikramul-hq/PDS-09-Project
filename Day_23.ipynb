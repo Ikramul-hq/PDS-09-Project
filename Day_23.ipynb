{
 "cells": [
  {
   "cell_type": "code",
   "execution_count": 1,
   "id": "0c718549-8ce0-4f92-861b-2829466dee5d",
   "metadata": {},
   "outputs": [
    {
     "data": {
      "text/plain": [
       "720"
      ]
     },
     "execution_count": 1,
     "metadata": {},
     "output_type": "execute_result"
    }
   ],
   "source": [
    "def factorial(n):\n",
    "    if n == 0 or n == 1:\n",
    "        return 1\n",
    "    else:\n",
    "        return n*factorial(n-1)\n",
    "\n",
    "factorial(6)"
   ]
  },
  {
   "cell_type": "code",
   "execution_count": 2,
   "id": "26e72f7a-d301-4adc-9816-ba1cf8328b0f",
   "metadata": {},
   "outputs": [
    {
     "name": "stdout",
     "output_type": "stream",
     "text": [
      "The sum of the first 5 numbers is: 15\n"
     ]
    }
   ],
   "source": [
    "def sum_of_n_numbers(n):\n",
    "    if n == 0:\n",
    "        return 0\n",
    "    else:\n",
    "        return n + sum_of_n_numbers(n - 1)\n",
    "\n",
    "n = 5\n",
    "result = sum_of_n_numbers(n)\n",
    "print(f\"The sum of the first {n} numbers is: {result}\") "
   ]
  },
  {
   "cell_type": "code",
   "execution_count": null,
   "id": "ef129c6c-4be1-4afe-b1fc-27f440219598",
   "metadata": {},
   "outputs": [],
   "source": [
    "def fibonacci(n):\n",
    "    if n == 0 or n == 1:\n",
    "        return n\n",
    "    else:\n",
    "        return fibonacci(n - 1) + fibonacci(n - 2)\n",
    "\n",
    "n = 100\n",
    "result = fibonacci(n)\n",
    "print(f\"The {n}th Fibonacci number is: {result}\")"
   ]
  },
  {
   "cell_type": "code",
   "execution_count": null,
   "id": "44bd1064-c491-4101-8a0c-9898c7b598cd",
   "metadata": {},
   "outputs": [],
   "source": [
    "def fibonacci(n):\n",
    "    if n == 0 or n == 1:\n",
    "        return n\n",
    "    else:\n",
    "        return fibonacci(n - 1) + fibonacci(n - 2)\n",
    "\n",
    "def print_fibonacci_series(n):\n",
    "    for i in range(n):\n",
    "        print(fibonacci(i), end=\", \")\n",
    "\n",
    "print_fibonacci_series(9)"
   ]
  },
  {
   "cell_type": "code",
   "execution_count": 1,
   "id": "bb89fce8-7b9f-400b-9ac3-83e3ebf5f839",
   "metadata": {},
   "outputs": [
    {
     "name": "stdout",
     "output_type": "stream",
     "text": [
      "The sum of the digits of 34567 is: 25\n"
     ]
    }
   ],
   "source": [
    "def sum_of_digits(n):\n",
    "    if n < 10:\n",
    "        return n\n",
    "    else:\n",
    "        return (n % 10) + sum_of_digits(n // 10)\n",
    "\n",
    "n = 34567\n",
    "result = sum_of_digits(n)\n",
    "print(f\"The sum of the digits of {n} is: {result}\")"
   ]
  },
  {
   "cell_type": "code",
   "execution_count": 15,
   "id": "08839f0e-81c2-44fa-8639-46d3249f5ab6",
   "metadata": {},
   "outputs": [
    {
     "name": "stdout",
     "output_type": "stream",
     "text": [
      "The digits of 345667 are:  3 4 5 6 6 7 The sum of the digits of 345667 is: 31\n"
     ]
    }
   ],
   "source": [
    "def print_digits(n):\n",
    "    if n < 10:\n",
    "        print(n, end=\" \")\n",
    "    else:\n",
    "        print_digits(n // 10)\n",
    "        print(n % 10, end=\" \")\n",
    "\n",
    "n = 345667\n",
    "print(f\"The digits of {n} are: \", end=\" \")\n",
    "print_digits(n)\n",
    "\n",
    "def sum_of_digits(n):\n",
    "    if n < 10:\n",
    "        return n\n",
    "    else:\n",
    "        return (n % 10) + sum_of_digits(n // 10)\n",
    "\n",
    "result = sum_of_digits(n)\n",
    "print(f\"The sum of the digits of {n} is: {result}\")"
   ]
  },
  {
   "cell_type": "code",
   "execution_count": 18,
   "id": "e0af04ba-1344-4330-8dd0-d22142449ce3",
   "metadata": {},
   "outputs": [
    {
     "name": "stdout",
     "output_type": "stream",
     "text": [
      "The digits of 345667 are: 3 4 5 6 6 7 \n",
      "The sum of the digits of 345667 is: 31\n"
     ]
    }
   ],
   "source": [
    "def sum_and_print_digits(n):\n",
    "    if n < 10:\n",
    "        print(n, end=\" \")\n",
    "        return n  \n",
    "    else:\n",
    "        sum_remaining = sum_and_print_digits(n // 10)\n",
    "        print(n % 10, end=\" \")\n",
    "        return sum_remaining + (n % 10)\n",
    "\n",
    "n = 345667\n",
    "\n",
    "print(f\"The digits of {n} are: \", end=\"\")\n",
    "sum_digits = sum_and_print_digits(n)\n",
    "print(f\"\\nThe sum of the digits of {n} is: {sum_digits}\")"
   ]
  },
  {
   "cell_type": "code",
   "execution_count": 27,
   "id": "7c885cca-dd9c-4679-aa14-c9e5183694cf",
   "metadata": {},
   "outputs": [
    {
     "name": "stdin",
     "output_type": "stream",
     "text": [
      "Enter a number:  0\n",
      "Enter a number:  0\n"
     ]
    },
    {
     "name": "stdout",
     "output_type": "stream",
     "text": [
      "Error: Division by zero is not allowed!\n"
     ]
    }
   ],
   "source": [
    "#zero Division Error\n",
    "try:\n",
    "    num_1 = int(input(\"Enter a number: \"))\n",
    "    num_2 = int(input(\"Enter a number: \"))\n",
    "    result = num_1 / num_2\n",
    "    print(f\"The result of {num_1} divided by {num_2} is: {result}\")\n",
    "except ZeroDivisionError:\n",
    "    print(\"Error: Division by zero is not allowed!\")\n",
    "except ValueError:\n",
    "    print(\"Error: Please enter valid integers!\")"
   ]
  },
  {
   "cell_type": "code",
   "execution_count": null,
   "id": "0c436663-7b5f-40ce-9876-b4df7a519c09",
   "metadata": {},
   "outputs": [],
   "source": [
    "try:\n",
    "    with open(\"example.txt\", \"r\") as file:\n",
    "        content = file.read(c)\n",
    "    print(content)"
   ]
  },
  {
   "cell_type": "code",
   "execution_count": 29,
   "id": "c4b367f5-52dd-465e-9a4d-00cc148a591d",
   "metadata": {},
   "outputs": [
    {
     "name": "stdin",
     "output_type": "stream",
     "text": [
      "Enter the file path:  C:\\Users\\IICT-LAB-229\\Desktop\\Ikram\\Liquid void presentation.pptx\n"
     ]
    },
    {
     "name": "stdout",
     "output_type": "stream",
     "text": [
      "An unexpected error occurred: 'charmap' codec can't decode byte 0x9d in position 74: character maps to <undefined>\n",
      "File operation completed.\n"
     ]
    }
   ],
   "source": [
    "file_path = input(\"Enter the file path: \")\n",
    "\n",
    "try:\n",
    "    with open(file_path, \"r\") as file:\n",
    "        contents = file.read()\n",
    "        print(\"File contents:\")\n",
    "        print(contents)\n",
    "except FileNotFoundError:\n",
    "    print(f\"Error: The file '{file_path}' does not exist.\")\n",
    "except PermissionError:\n",
    "    print(f\"Error: You do not have permission to access the file '{file_path}'.\")\n",
    "except IOError as e:\n",
    "    print(f\"Error: An I/O error occurred while opening the file: {e}\")\n",
    "except Exception as e:\n",
    "    print(f\"An unexpected error occurred: {e}\")\n",
    "else:\n",
    "    print(\"File read successfully!\")\n",
    "finally:\n",
    "    print(\"File operation completed.\")"
   ]
  },
  {
   "cell_type": "code",
   "execution_count": null,
   "id": "9111b86c-714d-43d5-af1c-5f4e7055226e",
   "metadata": {},
   "outputs": [],
   "source": []
  }
 ],
 "metadata": {
  "kernelspec": {
   "display_name": "Python 3 (ipykernel)",
   "language": "python",
   "name": "python3"
  },
  "language_info": {
   "codemirror_mode": {
    "name": "ipython",
    "version": 3
   },
   "file_extension": ".py",
   "mimetype": "text/x-python",
   "name": "python",
   "nbconvert_exporter": "python",
   "pygments_lexer": "ipython3",
   "version": "3.12.7"
  }
 },
 "nbformat": 4,
 "nbformat_minor": 5
}
